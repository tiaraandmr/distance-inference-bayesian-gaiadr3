{
  "cells": [
    {
      "cell_type": "code",
      "execution_count": 1,
      "metadata": {
        "id": "LS7fSqMlO4D1"
      },
      "outputs": [],
      "source": [
        "import numpy as np\n",
        "from scipy.integrate import quad\n",
        "from scipy.optimize import brentq\n",
        "\n",
        "from scipy.optimize import fsolve\n",
        "from decimal import *\n",
        "import matplotlib.pyplot as plt\n",
        "import pandas as pd"
      ]
    },
    {
      "cell_type": "code",
      "execution_count": 2,
      "metadata": {
        "id": "yNt1EQaddnUp"
      },
      "outputs": [],
      "source": [
        "#Defining the likelihood function\n",
        "def likelihood(x,w,s):\n",
        "    return 1/(np.sqrt(2*np.pi)*s)*np.exp(-1/(2*s**2)*(w-1/x)**2)\n",
        "\n",
        "#Defining the priors\n",
        "def uniform_distance_prior(x, r_lim):\n",
        "    if x > 0 and x <= r_lim:\n",
        "      return 1/r_lim\n",
        "    else:\n",
        "      return 0\n",
        "\n",
        "def uniform_density_prior(x, r_lim):\n",
        "    if x > 0 and x <= r_lim:\n",
        "      return (3/r_lim**3)*(x**2)\n",
        "    else:\n",
        "      return 0\n",
        "\n",
        "def exponentially_decreasing_space_density_prior(x, L):\n",
        "    if x > 0:\n",
        "      return (1/2*L**3)*(x**2)*(np.exp(-x/L))\n",
        "    else:\n",
        "      return 0"
      ]
    },
    {
      "cell_type": "code",
      "execution_count": 3,
      "metadata": {
        "id": "fZHOSPudhr8A"
      },
      "outputs": [],
      "source": [
        "#Calculate the posteriors\n",
        "def uniform_distance_posterior(x,w,s,r_lim):    \n",
        "    if x > 0 and x <= r_lim:\n",
        "        return float(np.exp(float(-(w-1/x)**2/(2*s**2))))/(s*np.sqrt(2*np.pi)*r_lim)\n",
        "    else:\n",
        "        return 0\n",
        "\n",
        "def uniform_density_posterior(x,w,s,r_lim):    \n",
        "    if x > 0 and x <= r_lim:\n",
        "        return float((x**2)*(np.exp(float(-(w-1/x)**2/(2*s**2)))))\n",
        "    else:\n",
        "        return 0\n",
        "    \n",
        "def exponentially_decreasing_space_density_posterior(x,w,s,L):\n",
        "    if x > 0:\n",
        "        return x**2*np.exp(-x/L)*np.exp(-(w-1/x)**2/(2*s**2))/(s*np.sqrt(2*np.pi)*2*L**3)\n",
        "    else:\n",
        "        return 0"
      ]
    },
    {
      "cell_type": "code",
      "execution_count": 4,
      "metadata": {
        "id": "S2UAVrArhwd3"
      },
      "outputs": [],
      "source": [
        "#Calculate mode for every posterior\n",
        "def mode_r_uniform_distance(w, r_lim): # Mode according to the uniform distance PDF posterior\n",
        "    # If the distance computed as the invers of the parallax is not positive or inferior than r_lim the estimated distance is r_lim\n",
        "    r = 1./w\n",
        "    if (r <= r_lim) and (r > 0):\n",
        "        r_mo = r\n",
        "    else:\n",
        "        r_mo = r_lim\n",
        "    return r_mo\n",
        "\n",
        "def mode_r_uniform_density(w, s, r_lim, f): # Mode according to the uniform distance PDF posterior\n",
        "    # If the distance computed as the invers of the parallax is not positive or inferior than r_lim the estimated distance is r_lim\n",
        "    r = (1/(4*(f**2)*s))*(1-np.sqrt(1-8*(f**2)))\n",
        "    if (r <= r_lim) and (w > 0) and (f < 1/np.sqrt(8)):\n",
        "        r_mo = r\n",
        "    else:\n",
        "        r_mo = r_lim\n",
        "    return r_mo\n",
        "\n",
        "def mode_r_exponential(L, w, sig_w): \n",
        "    a = np.float64(1. / L)\n",
        "    b = np.float64(-2.)\n",
        "    c = np.float64(w / sig_w ** 2)\n",
        "    d = np.float64(- 1. / sig_w ** 2)\n",
        "\n",
        "    p = np.array([a, b, c, d])\n",
        "\n",
        "    sol = np.roots(p) #Solving the third degree equation\n",
        "\n",
        "    l = len(sol)\n",
        "    solutions = []\n",
        "\n",
        "    for s in sol:\n",
        "        if abs(s) == s: #Selecting the real roots\n",
        "            solutions.append(s)\n",
        "\n",
        "    # Given the physical limitations s>0 and L>0, only two cases are possible:\n",
        "    # - All three roots are real and there are two modes and one minimum. If w>0 the solution is the smallest one while if w<0, the greatest one\n",
        "    # is the solution.\n",
        "    # - There's only one root.\n",
        "    if len(solutions) == 3:  # If there are three real roots and the observed parallax is positive, the maximum value will be taken as the solution\n",
        "        if w >= 0:\n",
        "            r_mo = np.float(min(solutions))\n",
        "\n",
        "        else:\n",
        "            r_mo = np.float(max(solutions))\n",
        "    else:\n",
        "\n",
        "        r_mo = np.float64(abs(solutions[0]))\n",
        "    return r_mo"
      ]
    },
    {
      "cell_type": "code",
      "execution_count": 5,
      "metadata": {
        "id": "o6z8T8DMPd0s"
      },
      "outputs": [],
      "source": [
        "#Calculate the percentiles\n",
        "def percentiles(f,r0,r_mode,w,s,par): # Given a distance (i.e. r_mode), it integrates the PDF from r0 to the given distance and returns the unnormalized percentile\n",
        "    p = quad(f,r0,r_mode,args=(w,s,par),epsrel = 1e-12, epsabs = 1e-12)\n",
        "    return p[0]\n",
        "\n",
        "def normalized_percentile(p,n):\n",
        "    tol = 10**(-25)\n",
        "    if n == 0:\n",
        "       \n",
        "        n = tol\n",
        "        if p == 0:\n",
        "            p = tol\n",
        "   \n",
        "    return p/n"
      ]
    },
    {
      "cell_type": "code",
      "execution_count": 6,
      "metadata": {
        "id": "mxiNhWWnubJY"
      },
      "outputs": [],
      "source": [
        "#Calculate normalization for the posterior\n",
        "def normalization(f,par1,w,s,p,r_mode,par2): \n",
        "    N = quad(f, r_mode, par2, args=(w, s, par1),epsrel = 1e-11, epsabs = 1e-11) # We integrate the required posterior from the mode to infinity (par2)\n",
        "    \n",
        "    N = N[0] + p # p is the percentile corresponding to the mode, i.e. the integration of the PDF from r0 to r_mode\n",
        "    \n",
        "    return N"
      ]
    },
    {
      "cell_type": "code",
      "execution_count": 7,
      "metadata": {
        "id": "Obb-WqdYZXrn"
      },
      "outputs": [],
      "source": [
        "#Calculate the median\n",
        "def median(f,w,s,par,par2,r_mode,p,N):\n",
        "    r0 = 0.01 #kpc\n",
        "    # The median is the distance which corresponds to the 50% percentile\n",
        "    # par2 is the 'infinite' of every distribution\n",
        "    \n",
        "    if p == 0.5: # If the percentile of the mode = 0.5, the mode and the median coincide\n",
        "        return r_mode\n",
        "    \n",
        "    else: # We try to find the smallest interval that we know contains the median\n",
        "        if p>0.5: # If the mode is at the right of the median, the median will be between r0 and the mode\n",
        "            r_inf = r0\n",
        "            r_sup = r_mode\n",
        "            \n",
        "            def function(x):\n",
        "                I = quad(f, r0, x, args=(w, s, par),epsrel = 1e-11, epsabs = 1e-11)\n",
        "                return I[0]/N - 0.5\n",
        "\n",
        "            r_median = brentq(function, r_inf, r_sup) #Finding the median\n",
        "\n",
        "            return r_median\n",
        "\n",
        "\n",
        "        else: # If the mode is at the left of the median, the median will be between the mode and the limit  \n",
        "            r_inf = r_mode\n",
        "            r_sup = r_mode\n",
        "            i = 0\n",
        "            step = 0.1\n",
        "            def function(x):\n",
        "                I = quad(f, r0, x, args=(w, s, par),epsrel = 1e-11, epsabs = 1e-11)\n",
        "                return I[0]/N - 0.5\n",
        "            \n",
        "            while True:\n",
        "                i = i + 1\n",
        "                try:\n",
        "                    r_median = brentq(function, r_inf, r_sup)\n",
        "                    return r_median\n",
        "                \n",
        "                except ValueError:\n",
        "                    r_sup = r_sup + step\n",
        "                    \n",
        "                if i == 10**3:\n",
        "                    step = step/10\n",
        "                    i = 0\n",
        "                    r_sup = r_mode"
      ]
    },
    {
      "cell_type": "code",
      "execution_count": 8,
      "metadata": {
        "id": "5mg9Dp6LZZlg"
      },
      "outputs": [],
      "source": [
        "#Calculate the distances from the percentiles\n",
        "def distances_from_percentiles(f,N,w,s,stype,p_inf,p_sup,p_ref,r_ref,par,par2):    \n",
        "    r0 = 0.01 #kpc\n",
        "    if stype == 'inf': # I'm looking for the inferior distance bound\n",
        "        r_inf = r0\n",
        "        r_sub = r_ref # The inferior limit will be between 0 and the median\n",
        "        \n",
        "        def function(x):\n",
        "            I = quad(f, r0, x, args=(w, s, par),epsrel = 1e-12, epsabs = 1e-12)\n",
        "            return I[0] / N - p_inf\n",
        "        \n",
        "        r = brentq(function,r_inf,r_sub)\n",
        "        \n",
        "        return r\n",
        "\n",
        "    else: #I'm looking for the superior distance bound\n",
        "        def function(x):\n",
        "            I = quad(f, r0, x, args=(w, s, par),epsrel = 1e-12, epsabs = 1e-12)\n",
        "            return I[0] / N - p_sup\n",
        "        \n",
        "        if (quad(f, r0, r_ref, args=(w, s, par), epsrel=1e-12, epsabs=1e-12)[0] / N - p_sup)<0:\n",
        "            r_inf = r_ref\n",
        "            \n",
        "        else:\n",
        "            r_inf = r0\n",
        "        \n",
        "        if (quad(f, r0, r_inf, args=(w, s, par), epsrel=1e-12, epsabs=1e-12)[0] / N - 0.95)*(quad(f, r0, par2, args=(w, s, par), epsrel=1e-11, epsabs=1e-11)[0] / N - 0.95) < 0:\n",
        "            r_sup = par2\n",
        "            \n",
        "            r = brentq(function,r_inf,r_sup)\n",
        "            return r\n",
        "            \n",
        "        else:\n",
        "            i = 0\n",
        "            step = 1\n",
        "            r_sup = r_ref\n",
        "            while True:\n",
        "                i = i + 1\n",
        "                try:\n",
        "                    r = brentq(function, r_inf, r_sup)\n",
        "                    return r\n",
        "                \n",
        "                except ValueError:\n",
        "                    r_sup = r_sup + step\n",
        "                    \n",
        "                if i == 10**3:\n",
        "                    step = step/10\n",
        "                    i = 0\n",
        "                    r_sup = r_ref"
      ]
    },
    {
      "cell_type": "code",
      "execution_count": 9,
      "metadata": {
        "colab": {
          "base_uri": "https://localhost:8080/",
          "height": 363
        },
        "id": "pKiAijFgQGHU",
        "outputId": "5c7b5b4e-09e8-42a8-b1a0-5bb44fcb437d"
      },
      "outputs": [
        {
          "output_type": "execute_result",
          "data": {
            "text/plain": [
              "                    designation          ra        dec  parallax  \\\n",
              "0  Gaia DR3 4267180339403392768  286.716913   0.276195  1.084924   \n",
              "1  Gaia DR3 5252403815119316480  152.625068 -64.267699  0.854356   \n",
              "2  Gaia DR3 1937745177867542656  348.434982  43.940704  1.042008   \n",
              "3  Gaia DR3 5971301282285218048  252.729717 -37.917215  0.587660   \n",
              "4  Gaia DR3 5953201637243132416  260.678787 -44.788772 -0.293376   \n",
              "5  Gaia DR3 6125916630291830144  186.180736 -50.756590  0.436940   \n",
              "6  Gaia DR3 6018228919573319936  245.577837 -39.059397  2.379563   \n",
              "7  Gaia DR3 5203483274312495872  144.849128 -77.016786  0.352183   \n",
              "8  Gaia DR3 4162615512253865856  263.432898 -12.341759 -0.283236   \n",
              "9   Gaia DR3 907389666087922816  121.199918  37.854632  0.513708   \n",
              "\n",
              "   parallax_error         f  \n",
              "0        0.033431  0.030814  \n",
              "1        1.282721  1.501388  \n",
              "2        0.633289  0.607758  \n",
              "3        0.633092  1.077310  \n",
              "4        0.619885  2.112941  \n",
              "5        0.216148  0.494685  \n",
              "6        0.831078  0.349257  \n",
              "7        0.185059  0.525462  \n",
              "8        1.247819  4.405575  \n",
              "9        0.433948  0.844737  "
            ],
            "text/html": [
              "\n",
              "  <div id=\"df-ad1b120d-392e-43c1-b318-cd56acc1996b\">\n",
              "    <div class=\"colab-df-container\">\n",
              "      <div>\n",
              "<style scoped>\n",
              "    .dataframe tbody tr th:only-of-type {\n",
              "        vertical-align: middle;\n",
              "    }\n",
              "\n",
              "    .dataframe tbody tr th {\n",
              "        vertical-align: top;\n",
              "    }\n",
              "\n",
              "    .dataframe thead th {\n",
              "        text-align: right;\n",
              "    }\n",
              "</style>\n",
              "<table border=\"1\" class=\"dataframe\">\n",
              "  <thead>\n",
              "    <tr style=\"text-align: right;\">\n",
              "      <th></th>\n",
              "      <th>designation</th>\n",
              "      <th>ra</th>\n",
              "      <th>dec</th>\n",
              "      <th>parallax</th>\n",
              "      <th>parallax_error</th>\n",
              "      <th>f</th>\n",
              "    </tr>\n",
              "  </thead>\n",
              "  <tbody>\n",
              "    <tr>\n",
              "      <th>0</th>\n",
              "      <td>Gaia DR3 4267180339403392768</td>\n",
              "      <td>286.716913</td>\n",
              "      <td>0.276195</td>\n",
              "      <td>1.084924</td>\n",
              "      <td>0.033431</td>\n",
              "      <td>0.030814</td>\n",
              "    </tr>\n",
              "    <tr>\n",
              "      <th>1</th>\n",
              "      <td>Gaia DR3 5252403815119316480</td>\n",
              "      <td>152.625068</td>\n",
              "      <td>-64.267699</td>\n",
              "      <td>0.854356</td>\n",
              "      <td>1.282721</td>\n",
              "      <td>1.501388</td>\n",
              "    </tr>\n",
              "    <tr>\n",
              "      <th>2</th>\n",
              "      <td>Gaia DR3 1937745177867542656</td>\n",
              "      <td>348.434982</td>\n",
              "      <td>43.940704</td>\n",
              "      <td>1.042008</td>\n",
              "      <td>0.633289</td>\n",
              "      <td>0.607758</td>\n",
              "    </tr>\n",
              "    <tr>\n",
              "      <th>3</th>\n",
              "      <td>Gaia DR3 5971301282285218048</td>\n",
              "      <td>252.729717</td>\n",
              "      <td>-37.917215</td>\n",
              "      <td>0.587660</td>\n",
              "      <td>0.633092</td>\n",
              "      <td>1.077310</td>\n",
              "    </tr>\n",
              "    <tr>\n",
              "      <th>4</th>\n",
              "      <td>Gaia DR3 5953201637243132416</td>\n",
              "      <td>260.678787</td>\n",
              "      <td>-44.788772</td>\n",
              "      <td>-0.293376</td>\n",
              "      <td>0.619885</td>\n",
              "      <td>2.112941</td>\n",
              "    </tr>\n",
              "    <tr>\n",
              "      <th>5</th>\n",
              "      <td>Gaia DR3 6125916630291830144</td>\n",
              "      <td>186.180736</td>\n",
              "      <td>-50.756590</td>\n",
              "      <td>0.436940</td>\n",
              "      <td>0.216148</td>\n",
              "      <td>0.494685</td>\n",
              "    </tr>\n",
              "    <tr>\n",
              "      <th>6</th>\n",
              "      <td>Gaia DR3 6018228919573319936</td>\n",
              "      <td>245.577837</td>\n",
              "      <td>-39.059397</td>\n",
              "      <td>2.379563</td>\n",
              "      <td>0.831078</td>\n",
              "      <td>0.349257</td>\n",
              "    </tr>\n",
              "    <tr>\n",
              "      <th>7</th>\n",
              "      <td>Gaia DR3 5203483274312495872</td>\n",
              "      <td>144.849128</td>\n",
              "      <td>-77.016786</td>\n",
              "      <td>0.352183</td>\n",
              "      <td>0.185059</td>\n",
              "      <td>0.525462</td>\n",
              "    </tr>\n",
              "    <tr>\n",
              "      <th>8</th>\n",
              "      <td>Gaia DR3 4162615512253865856</td>\n",
              "      <td>263.432898</td>\n",
              "      <td>-12.341759</td>\n",
              "      <td>-0.283236</td>\n",
              "      <td>1.247819</td>\n",
              "      <td>4.405575</td>\n",
              "    </tr>\n",
              "    <tr>\n",
              "      <th>9</th>\n",
              "      <td>Gaia DR3 907389666087922816</td>\n",
              "      <td>121.199918</td>\n",
              "      <td>37.854632</td>\n",
              "      <td>0.513708</td>\n",
              "      <td>0.433948</td>\n",
              "      <td>0.844737</td>\n",
              "    </tr>\n",
              "  </tbody>\n",
              "</table>\n",
              "</div>\n",
              "      <button class=\"colab-df-convert\" onclick=\"convertToInteractive('df-ad1b120d-392e-43c1-b318-cd56acc1996b')\"\n",
              "              title=\"Convert this dataframe to an interactive table.\"\n",
              "              style=\"display:none;\">\n",
              "        \n",
              "  <svg xmlns=\"http://www.w3.org/2000/svg\" height=\"24px\"viewBox=\"0 0 24 24\"\n",
              "       width=\"24px\">\n",
              "    <path d=\"M0 0h24v24H0V0z\" fill=\"none\"/>\n",
              "    <path d=\"M18.56 5.44l.94 2.06.94-2.06 2.06-.94-2.06-.94-.94-2.06-.94 2.06-2.06.94zm-11 1L8.5 8.5l.94-2.06 2.06-.94-2.06-.94L8.5 2.5l-.94 2.06-2.06.94zm10 10l.94 2.06.94-2.06 2.06-.94-2.06-.94-.94-2.06-.94 2.06-2.06.94z\"/><path d=\"M17.41 7.96l-1.37-1.37c-.4-.4-.92-.59-1.43-.59-.52 0-1.04.2-1.43.59L10.3 9.45l-7.72 7.72c-.78.78-.78 2.05 0 2.83L4 21.41c.39.39.9.59 1.41.59.51 0 1.02-.2 1.41-.59l7.78-7.78 2.81-2.81c.8-.78.8-2.07 0-2.86zM5.41 20L4 18.59l7.72-7.72 1.47 1.35L5.41 20z\"/>\n",
              "  </svg>\n",
              "      </button>\n",
              "      \n",
              "  <style>\n",
              "    .colab-df-container {\n",
              "      display:flex;\n",
              "      flex-wrap:wrap;\n",
              "      gap: 12px;\n",
              "    }\n",
              "\n",
              "    .colab-df-convert {\n",
              "      background-color: #E8F0FE;\n",
              "      border: none;\n",
              "      border-radius: 50%;\n",
              "      cursor: pointer;\n",
              "      display: none;\n",
              "      fill: #1967D2;\n",
              "      height: 32px;\n",
              "      padding: 0 0 0 0;\n",
              "      width: 32px;\n",
              "    }\n",
              "\n",
              "    .colab-df-convert:hover {\n",
              "      background-color: #E2EBFA;\n",
              "      box-shadow: 0px 1px 2px rgba(60, 64, 67, 0.3), 0px 1px 3px 1px rgba(60, 64, 67, 0.15);\n",
              "      fill: #174EA6;\n",
              "    }\n",
              "\n",
              "    [theme=dark] .colab-df-convert {\n",
              "      background-color: #3B4455;\n",
              "      fill: #D2E3FC;\n",
              "    }\n",
              "\n",
              "    [theme=dark] .colab-df-convert:hover {\n",
              "      background-color: #434B5C;\n",
              "      box-shadow: 0px 1px 3px 1px rgba(0, 0, 0, 0.15);\n",
              "      filter: drop-shadow(0px 1px 2px rgba(0, 0, 0, 0.3));\n",
              "      fill: #FFFFFF;\n",
              "    }\n",
              "  </style>\n",
              "\n",
              "      <script>\n",
              "        const buttonEl =\n",
              "          document.querySelector('#df-ad1b120d-392e-43c1-b318-cd56acc1996b button.colab-df-convert');\n",
              "        buttonEl.style.display =\n",
              "          google.colab.kernel.accessAllowed ? 'block' : 'none';\n",
              "\n",
              "        async function convertToInteractive(key) {\n",
              "          const element = document.querySelector('#df-ad1b120d-392e-43c1-b318-cd56acc1996b');\n",
              "          const dataTable =\n",
              "            await google.colab.kernel.invokeFunction('convertToInteractive',\n",
              "                                                     [key], {});\n",
              "          if (!dataTable) return;\n",
              "\n",
              "          const docLinkHtml = 'Like what you see? Visit the ' +\n",
              "            '<a target=\"_blank\" href=https://colab.research.google.com/notebooks/data_table.ipynb>data table notebook</a>'\n",
              "            + ' to learn more about interactive tables.';\n",
              "          element.innerHTML = '';\n",
              "          dataTable['output_type'] = 'display_data';\n",
              "          await google.colab.output.renderOutput(dataTable, element);\n",
              "          const docLink = document.createElement('div');\n",
              "          docLink.innerHTML = docLinkHtml;\n",
              "          element.appendChild(docLink);\n",
              "        }\n",
              "      </script>\n",
              "    </div>\n",
              "  </div>\n",
              "  "
            ]
          },
          "metadata": {},
          "execution_count": 9
        }
      ],
      "source": [
        "data = pd.read_csv(\"distance-inference-dr3.csv\")\n",
        "\n",
        "data['f'] = abs(data['parallax_error'] / data['parallax'])\n",
        "data"
      ]
    },
    {
      "cell_type": "code",
      "execution_count": 10,
      "metadata": {
        "id": "AxBgRJYDjKX7"
      },
      "outputs": [],
      "source": [
        "L = 1.35 #kpc\n",
        "r_lim = 100 #kpc\n",
        "r0 = 0.01 #kpc\n",
        "\n",
        "w = data[\"parallax\"][0] # mas PARALLAX\n",
        "s = data[\"parallax_error\"][0] #mas PARALLAX ERROR\n",
        "f = abs(s/w)\n",
        "\n",
        "p_inf = 0.05 # Normalized inferior percentile\n",
        "p_sup = 0.95 # Normalized superior percentile\n",
        "\n",
        "x = np.arange(r0,r_lim,r_lim/50000)"
      ]
    },
    {
      "cell_type": "code",
      "execution_count": 11,
      "metadata": {
        "colab": {
          "base_uri": "https://localhost:8080/",
          "height": 312
        },
        "id": "VgefkkuQqE5h",
        "outputId": "96d3dd6f-ae6a-4268-8428-b0addb8507a3"
      },
      "outputs": [
        {
          "output_type": "execute_result",
          "data": {
            "text/plain": [
              "(0.75, 1.15)"
            ]
          },
          "metadata": {},
          "execution_count": 11
        },
        {
          "output_type": "display_data",
          "data": {
            "text/plain": [
              "<Figure size 432x288 with 1 Axes>"
            ],
            "image/png": "[encoded data removed]"
          },
          "metadata": {
            "needs_background": "light"
          }
        }
      ],
      "source": [
        "r_mode_ud = mode_r_uniform_distance(w, r_lim)\n",
        "\n",
        "p_ud = percentiles(uniform_distance_posterior, r0, r_mode_ud, w, s,r_lim)\n",
        "n_ud = normalization(uniform_distance_posterior, r_lim, w, s, p_ud, r_mode_ud,r_lim)\n",
        "p_ud = normalized_percentile(p_ud, n_ud)\n",
        "\n",
        "r_media_ud = median(uniform_distance_posterior,w,s,r_lim,r_lim,r_mode_ud,p_ud,n_ud)\n",
        "\n",
        "r_sup_ud = distances_from_percentiles(uniform_distance_posterior, n_ud, w, s, 'sup', p_inf, p_sup,0.5, r_media_ud, r_lim, r_lim)\n",
        "r_inf_ud = distances_from_percentiles(uniform_distance_posterior,n_ud,w,s,'inf',p_inf,p_sup,0.5,r_media_ud,r_lim,r_lim)\n",
        "\n",
        "y1_ud = likelihood(x,w,s)\n",
        "y2_ud = [uniform_distance_prior(i, r_lim) for i in x]  \n",
        "y3_ud = [uniform_distance_posterior(i, w, s, r_lim)/n_ud for i in x]\n",
        "\n",
        "plt.plot(x, y1_ud, label = \"Likelihood\", color = \"black\", linestyle = \"dashed\")\n",
        "plt.plot(x, y2_ud, label = \"Prior\", color = \"black\", linestyle = \"dotted\")\n",
        "plt.plot(x, y3_ud, label = \"Posterior\", color = \"black\")\n",
        "plt.xlabel (\"Distance (kpc)\")\n",
        "plt.ylabel (\"PDF\")\n",
        "plt.title (\"Uniform Distance Prior\")\n",
        "plt.xticks(np.arange(0.75, 1.25, step=0.10))\n",
        "plt.yticks(np.arange(0, 15, step=3))\n",
        "\n",
        "plt.legend ()\n",
        "plt.grid ()\n",
        "plt.xlim(0.75,1.15)"
      ]
    },
    {
      "cell_type": "code",
      "execution_count": 12,
      "metadata": {
        "colab": {
          "base_uri": "https://localhost:8080/",
          "height": 312
        },
        "id": "4zpjmH-hU_3J",
        "outputId": "08154066-d82a-424c-f7c6-82aad3775e25"
      },
      "outputs": [
        {
          "output_type": "execute_result",
          "data": {
            "text/plain": [
              "(0.75, 1.15)"
            ]
          },
          "metadata": {},
          "execution_count": 12
        },
        {
          "output_type": "display_data",
          "data": {
            "text/plain": [
              "<Figure size 432x288 with 1 Axes>"
            ],
            "image/png": "[encoded data removed]"
          },
          "metadata": {
            "needs_background": "light"
          }
        }
      ],
      "source": [
        "plt.plot(x, y3_ud, label = \"Posterior\", color = \"black\")\n",
        "plt.axvline(x=r_mode_ud, label= \"Mode\", color = \"red\", linestyle = \"dotted\")\n",
        "plt.axvline(x=r_media_ud, label= \"Median\", color = \"green\", linestyle = \"dotted\")\n",
        "plt.axvline(x=r_inf_ud, label= \"90% interval\", color = \"blue\", linestyle = \"dotted\")\n",
        "plt.axvline(x=r_sup_ud, color = \"blue\", linestyle = \"dotted\")\n",
        "plt.xlabel (\"Distance (kpc)\")\n",
        "plt.ylabel (\"PDF\")\n",
        "plt.title (\"Uniform Distance Prior\")\n",
        "plt.xticks(np.arange(0.75, 1.25, step=0.10))\n",
        "plt.yticks(np.arange(0, 15, step=3))\n",
        "plt.legend ()\n",
        "plt.grid ()\n",
        "plt.xlim(0.75,1.15)"
      ]
    },
    {
      "cell_type": "code",
      "execution_count": 13,
      "metadata": {
        "colab": {
          "base_uri": "https://localhost:8080/",
          "height": 312
        },
        "id": "stNT5yqYQAM7",
        "outputId": "32009942-8c8a-4205-abf7-7aef1868788a"
      },
      "outputs": [
        {
          "output_type": "execute_result",
          "data": {
            "text/plain": [
              "(0.75, 1.15)"
            ]
          },
          "metadata": {},
          "execution_count": 13
        },
        {
          "output_type": "display_data",
          "data": {
            "text/plain": [
              "<Figure size 432x288 with 1 Axes>"
            ],
            "image/png": "[encoded data removed]"
          },
          "metadata": {
            "needs_background": "light"
          }
        }
      ],
      "source": [
        "r_mode_usd = mode_r_uniform_density(w, s, r_lim, f)\n",
        "\n",
        "p_usd = percentiles(uniform_density_posterior, r0, r_mode_usd, w, s,r_lim)\n",
        "n_usd = normalization(uniform_density_posterior, r_lim, w, s, p_usd, r_mode_usd,r_lim)\n",
        "p_usd = normalized_percentile(p_usd, n_usd)\n",
        "\n",
        "r_media_usd = median(uniform_density_posterior,w,s,r_lim,r_lim,r_mode_usd,p_usd,n_usd)\n",
        "\n",
        "r_sup_usd = distances_from_percentiles(uniform_density_posterior, n_usd, w, s, 'sup', p_inf, p_sup,0.5, r_media_usd, r_lim, r_lim)\n",
        "r_inf_usd = distances_from_percentiles(uniform_density_posterior,n_usd,w,s,'inf',p_inf,p_sup,0.5,r_media_usd,r_lim, r_lim)\n",
        "\n",
        "y1_usd = likelihood(x,w,s)\n",
        "y2_usd = [uniform_density_prior(i, r_lim) for i in x]  \n",
        "y3_usd = [uniform_density_posterior(i, w, s, r_lim)/n_usd for i in x]\n",
        "\n",
        "plt.plot(x, y1_usd, label = \"Likelihood\", color = \"black\", linestyle = \"dashed\")\n",
        "plt.plot(x, y2_usd, label = \"Prior\", color = \"black\", linestyle = \"dotted\")\n",
        "plt.plot(x, y3_usd, label = \"Posterior\", color = \"black\")\n",
        "plt.xlabel (\"Distance (kpc)\")\n",
        "plt.ylabel (\"PDF\")\n",
        "plt.title (\"Uniform Density Prior\")\n",
        "plt.xticks(np.arange(0.75, 1.25, step=0.10))\n",
        "plt.yticks(np.arange(0, 15, step=3))\n",
        "\n",
        "plt.legend ()\n",
        "plt.grid ()\n",
        "plt.xlim(0.75,1.15)"
      ]
    },
    {
      "cell_type": "code",
      "execution_count": 14,
      "metadata": {
        "colab": {
          "base_uri": "https://localhost:8080/",
          "height": 312
        },
        "id": "4SJvqV86nyBG",
        "outputId": "9a610d3a-8a76-4913-fe91-76c27a4ff5d8"
      },
      "outputs": [
        {
          "output_type": "display_data",
          "data": {
            "text/plain": [
              "<Figure size 432x288 with 1 Axes>"
            ],
            "image/png": "[encoded data removed]"
          },
          "metadata": {
            "needs_background": "light"
          }
        },
        {
          "output_type": "display_data",
          "data": {
            "text/plain": [
              "<Figure size 1440x1440 with 0 Axes>"
            ]
          },
          "metadata": {}
        }
      ],
      "source": [
        "plt.plot(x, y3_usd, label = \"Posterior\", color = \"black\")\n",
        "plt.axvline(x=r_mode_usd, label= \"Mode\", color = \"red\", linestyle = \"dotted\")\n",
        "plt.axvline(x=r_media_usd, label= \"Median\", color = \"green\", linestyle = \"dotted\")\n",
        "plt.axvline(x=r_inf_usd, label= \"90% interval\", color = \"blue\", linestyle = \"dotted\")\n",
        "plt.axvline(x=r_sup_usd, color = \"blue\", linestyle = \"dotted\")\n",
        "plt.xlabel (\"Distance (kpc)\")\n",
        "plt.ylabel (\"PDF\")\n",
        "plt.title (\"Uniform Density Prior\")\n",
        "plt.xticks(np.arange(0.75, 1.25, step=0.10))\n",
        "plt.yticks(np.arange(0, 15, step=3))\n",
        "plt.legend ()\n",
        "plt.grid ()\n",
        "plt.xlim(0.75,1.15)\n",
        "plt.figure(figsize=(20,20))\n",
        "plt.savefig(\"1_usd_2.png\")"
      ]
    },
    {
      "cell_type": "code",
      "execution_count": 15,
      "metadata": {
        "colab": {
          "base_uri": "https://localhost:8080/",
          "height": 312
        },
        "id": "2whwm86KK7XB",
        "outputId": "515d2fda-8cc0-4ece-ba0a-4f9b5306e360"
      },
      "outputs": [
        {
          "output_type": "execute_result",
          "data": {
            "text/plain": [
              "(0.75, 1.15)"
            ]
          },
          "metadata": {},
          "execution_count": 15
        },
        {
          "output_type": "display_data",
          "data": {
            "text/plain": [
              "<Figure size 432x288 with 1 Axes>"
            ],
            "image/png": "[encoded data removed]"
          },
          "metadata": {
            "needs_background": "light"
          }
        }
      ],
      "source": [
        "r_mode_exp = mode_r_exponential(L, w, s)\n",
        "\n",
        "p_exp = percentiles(exponentially_decreasing_space_density_posterior,r0,r_mode_exp,w,s,L)# Computing the percentile that corresponds to the mode of the PDF\n",
        "n_exp = normalization(exponentially_decreasing_space_density_posterior,L,w,s,p_exp,r_mode_exp,r_lim)# Computing the normalization constant of the PDF\n",
        "p_exp = normalized_percentile(p_exp,n_exp) # Normalized percentile. The percentile now ranges from 0 to 1.\n",
        "    \n",
        "# Secondly, we can compute the median of the PDF, using as a reference the mode and its associated percentile (this allows to speed up the calculations)         \n",
        "r_media_exp = median(exponentially_decreasing_space_density_posterior,w,s,L,r_lim,r_mode_exp,p_exp,n_exp)\n",
        "    \n",
        "# Finally, we compute the distances corresponding to the superior and inferior bound percentiles. We use the median of the PDF as a reference, since it divides the PDF into two halves\n",
        "r_exp_inf = distances_from_percentiles(exponentially_decreasing_space_density_posterior, n_exp, w, s, 'inf', p_inf, p_sup,0.5, r_media_exp, L, r_lim)\n",
        "r_exp_sup = distances_from_percentiles(exponentially_decreasing_space_density_posterior, n_exp, w, s, 'sup', p_inf, p_sup,0.5, r_media_exp, L, r_lim)\n",
        "\n",
        "y1_exp = likelihood(x,w,s)\n",
        "y2_exp = [exponentially_decreasing_space_density_prior(i, L) for i in x]  \n",
        "y3_exp = [exponentially_decreasing_space_density_posterior(i,w,s,L)/n_exp for i in x]\n",
        "\n",
        "plt.plot(x, y1_exp, label = \"Likelihood\", color = \"black\", linestyle = \"dashed\")\n",
        "plt.plot(x, y2_exp, label = \"Prior\", color = \"black\", linestyle = \"dotted\")\n",
        "plt.plot(x, y3_exp, label = \"Posterior\", color = \"black\")\n",
        "plt.xlabel (\"Distance (kpc)\")\n",
        "plt.ylabel (\"PDF\")\n",
        "plt.title (\"Exponentially Decreasing Space Density Prior\")\n",
        "plt.xticks(np.arange(0.75, 1.25, step=0.10))\n",
        "plt.yticks(np.arange(0, 15, step=3))\n",
        "\n",
        "plt.legend ()\n",
        "plt.grid ()\n",
        "plt.xlim(0.75,1.15)"
      ]
    },
    {
      "cell_type": "code",
      "execution_count": 16,
      "metadata": {
        "colab": {
          "base_uri": "https://localhost:8080/",
          "height": 312
        },
        "id": "fMpWcDP5v_Vh",
        "outputId": "1bec808c-7750-4a2b-9e69-6cc21aa01f7c"
      },
      "outputs": [
        {
          "output_type": "execute_result",
          "data": {
            "text/plain": [
              "(0.75, 1.15)"
            ]
          },
          "metadata": {},
          "execution_count": 16
        },
        {
          "output_type": "display_data",
          "data": {
            "text/plain": [
              "<Figure size 432x288 with 1 Axes>"
            ],
            "image/png": "[encoded data removed]"
          },
          "metadata": {
            "needs_background": "light"
          }
        }
      ],
      "source": [
        "plt.plot(x, y3_exp, label = \"Posterior\", color = \"black\")\n",
        "plt.axvline(x=r_mode_exp, label= \"Mode\", color = \"red\", linestyle = \"dotted\")\n",
        "plt.axvline(x=r_media_exp, label= \"Median\", color = \"green\", linestyle = \"dotted\")\n",
        "plt.axvline(x=r_exp_inf, label= \"FWHM\", color = \"blue\", linestyle = \"dotted\")\n",
        "plt.axvline(x=r_exp_sup, color = \"blue\", linestyle = \"dotted\")\n",
        "plt.xlabel (\"Distance (kpc)\")\n",
        "plt.ylabel (\"PDF\")\n",
        "plt.title (\"Exponentially Decreasing Space Density Prior\")\n",
        "plt.xticks(np.arange(0.75, 1.25, step=0.10))\n",
        "plt.yticks(np.arange(0, 15, step=3))\n",
        "plt.legend ()\n",
        "plt.grid ()\n",
        "plt.xlim(0.75,1.15)"
      ]
    }
  ],
  "metadata": {
    "colab": {
      "provenance": []
    },
    "kernelspec": {
      "display_name": "Python 3 (ipykernel)",
      "language": "python",
      "name": "python3"
    },
    "language_info": {
      "codemirror_mode": {
        "name": "ipython",
        "version": 3
      },
      "file_extension": ".py",
      "mimetype": "text/x-python",
      "name": "python",
      "nbconvert_exporter": "python",
      "pygments_lexer": "ipython3",
      "version": "3.10.6"
    }
  },
  "nbformat": 4,
  "nbformat_minor": 0
}